{
 "cells": [
  {
   "cell_type": "code",
   "execution_count": 1,
   "id": "infrared-zoning",
   "metadata": {},
   "outputs": [],
   "source": [
    "%config Completer.use_jedi = False"
   ]
  },
  {
   "cell_type": "code",
   "execution_count": 2,
   "id": "greenhouse-audit",
   "metadata": {},
   "outputs": [
    {
     "name": "stderr",
     "output_type": "stream",
     "text": [
      "Using TensorFlow backend.\n"
     ]
    }
   ],
   "source": [
    "import keras\n",
    "from keras import optimizers\n",
    "from keras import losses\n",
    "from keras.models import Sequential, Model\n",
    "from keras.layers import  Dense, Input, Dropout, Embedding, LSTM\n",
    "from keras.preprocessing import sequence\n",
    "from keras.optimizers import RMSprop, Adam, Nadam\n",
    "from keras.callbacks import TensorBoard\n",
    "from keras import regularizers"
   ]
  },
  {
   "cell_type": "code",
   "execution_count": 3,
   "id": "oriented-closure",
   "metadata": {},
   "outputs": [],
   "source": [
    "import sklearn\n",
    "from sklearn.preprocessing import StandardScaler\n",
    "from sklearn.model_selection import train_test_split\n",
    "from sklearn.metrics import confusion_matrix, roc_auc_score\n",
    "from sklearn.preprocessing import MinMaxScaler\n",
    "from sklearn.metrics import classification_report"
   ]
  },
  {
   "cell_type": "code",
   "execution_count": 4,
   "id": "departmental-association",
   "metadata": {},
   "outputs": [],
   "source": [
    "import seaborn as sns\n",
    "import pandas as pd\n",
    "import numpy as np\n",
    "import matplotlib.pyplot as plt\n",
    "import matplotlib as mat\n",
    "import matplotlib.gridspec as gridspec\n",
    "%matplotlib inline"
   ]
  },
  {
   "cell_type": "code",
   "execution_count": 5,
   "id": "adolescent-nature",
   "metadata": {},
   "outputs": [
    {
     "name": "stdout",
     "output_type": "stream",
     "text": [
      "Python Version: 3.7.9 (default, Aug 31 2020, 07:22:35) \n",
      "[Clang 10.0.0 ]\n"
     ]
    }
   ],
   "source": [
    "import tensorflow\n",
    "import sys\n",
    "print(\"Python Version: {}\".format(sys.version))"
   ]
  },
  {
   "cell_type": "code",
   "execution_count": 6,
   "id": "further-roman",
   "metadata": {},
   "outputs": [],
   "source": [
    "class Visulaization:\n",
    "    labels = ['Normal', \"Anomaly\"]\n",
    "    \n",
    "    def draw_confusion_matrix(self, y, predict):\n",
    "        matrix = confusion_matrix(y, predict)\n",
    "        plt.figure(figsize = (10, 8))\n",
    "        colors = ['orange', 'green']\n",
    "        sns.heatmap(matrix, xticklabels = self.labels, yticklabels = self.labels, cmap = colors, annot = True, fmt = \"d\")\n",
    "        plt.title(\"Confusion Matrix\")\n",
    "        plt.xlabel(\"Actual\")\n",
    "        plt.ylabel(\"Predicted\")\n",
    "        plt.show()\n",
    "        \n",
    "        \n",
    "    def draw_anomaly(self, y, error, threshold):\n",
    "        groupDF = pd.DataFrame({'error':error,\n",
    "                                'true':y}).groupby('true')\n",
    "        \n",
    "        figure, axes = plt.subplots(figsize = (10, 8))\n",
    "        \n",
    "        for name, group in groupDF:\n",
    "            axes.plot(group.index, group.error, marker = 'x' if name == 1 else 'o', linestyle = '',\n",
    "                     color = 'r' if name ==1 else 'g', label = 'Anomaly' if name == 1 else \"Normal\")\n",
    "            \n",
    "        axes.hlines(threshold, axes.get_xlim()[0], axes.get_xlim()[1], colors=\"b\", zorder = 100, label = \"Threshold\")\n",
    "        axes.legend()\n",
    "        \n",
    "        plt.title(\"Anomalies\")\n",
    "        plt.xlabel(\"Data\")\n",
    "        plt.ylabel(\"Error\")\n",
    "        plt.tight_layout()\n",
    "        plt.show()\n",
    "        \n",
    "        \n",
    "    def draw_error(self, error, threshold):\n",
    "        plt.plot(error, marker = 'o', ms = 3.5, linestyle = \"\",\n",
    "                label = \"Point\")\n",
    "        plt.hlines(threshold, xmin = 0, xmax = len(error) - 1, colors = \"b\", zorder = 100, label = \"Threshold\")\n",
    "        plt.legend()\n",
    "        plt.title(\"Reconstraction Error\")\n",
    "        plt.xlabel(\"Data\")\n",
    "        plt.ylabel(\"Error\")\n",
    "        plt.tight_layout()\n",
    "        plt.show()"
   ]
  },
  {
   "cell_type": "markdown",
   "id": "printable-basics",
   "metadata": {},
   "source": [
    "#### Datasets Loading"
   ]
  },
  {
   "cell_type": "code",
   "execution_count": 7,
   "id": "representative-wallace",
   "metadata": {},
   "outputs": [],
   "source": [
    "datasets = pd.read_csv(\"/Users/mejbahahammad/Documents/DataSets/AnomalyDatasets/creditcard.csv\", header = 0, sep = ',')"
   ]
  },
  {
   "cell_type": "code",
   "execution_count": 8,
   "id": "later-stone",
   "metadata": {},
   "outputs": [
    {
     "data": {
      "text/html": [
       "<div>\n",
       "<style scoped>\n",
       "    .dataframe tbody tr th:only-of-type {\n",
       "        vertical-align: middle;\n",
       "    }\n",
       "\n",
       "    .dataframe tbody tr th {\n",
       "        vertical-align: top;\n",
       "    }\n",
       "\n",
       "    .dataframe thead th {\n",
       "        text-align: right;\n",
       "    }\n",
       "</style>\n",
       "<table border=\"1\" class=\"dataframe\">\n",
       "  <thead>\n",
       "    <tr style=\"text-align: right;\">\n",
       "      <th></th>\n",
       "      <th>Time</th>\n",
       "      <th>V1</th>\n",
       "      <th>V2</th>\n",
       "      <th>V3</th>\n",
       "      <th>V4</th>\n",
       "      <th>V5</th>\n",
       "      <th>V6</th>\n",
       "      <th>V7</th>\n",
       "      <th>V8</th>\n",
       "      <th>V9</th>\n",
       "      <th>...</th>\n",
       "      <th>V21</th>\n",
       "      <th>V22</th>\n",
       "      <th>V23</th>\n",
       "      <th>V24</th>\n",
       "      <th>V25</th>\n",
       "      <th>V26</th>\n",
       "      <th>V27</th>\n",
       "      <th>V28</th>\n",
       "      <th>Amount</th>\n",
       "      <th>Class</th>\n",
       "    </tr>\n",
       "  </thead>\n",
       "  <tbody>\n",
       "    <tr>\n",
       "      <th>0</th>\n",
       "      <td>0.0</td>\n",
       "      <td>-1.359807</td>\n",
       "      <td>-0.072781</td>\n",
       "      <td>2.536347</td>\n",
       "      <td>1.378155</td>\n",
       "      <td>-0.338321</td>\n",
       "      <td>0.462388</td>\n",
       "      <td>0.239599</td>\n",
       "      <td>0.098698</td>\n",
       "      <td>0.363787</td>\n",
       "      <td>...</td>\n",
       "      <td>-0.018307</td>\n",
       "      <td>0.277838</td>\n",
       "      <td>-0.110474</td>\n",
       "      <td>0.066928</td>\n",
       "      <td>0.128539</td>\n",
       "      <td>-0.189115</td>\n",
       "      <td>0.133558</td>\n",
       "      <td>-0.021053</td>\n",
       "      <td>149.62</td>\n",
       "      <td>0</td>\n",
       "    </tr>\n",
       "    <tr>\n",
       "      <th>1</th>\n",
       "      <td>0.0</td>\n",
       "      <td>1.191857</td>\n",
       "      <td>0.266151</td>\n",
       "      <td>0.166480</td>\n",
       "      <td>0.448154</td>\n",
       "      <td>0.060018</td>\n",
       "      <td>-0.082361</td>\n",
       "      <td>-0.078803</td>\n",
       "      <td>0.085102</td>\n",
       "      <td>-0.255425</td>\n",
       "      <td>...</td>\n",
       "      <td>-0.225775</td>\n",
       "      <td>-0.638672</td>\n",
       "      <td>0.101288</td>\n",
       "      <td>-0.339846</td>\n",
       "      <td>0.167170</td>\n",
       "      <td>0.125895</td>\n",
       "      <td>-0.008983</td>\n",
       "      <td>0.014724</td>\n",
       "      <td>2.69</td>\n",
       "      <td>0</td>\n",
       "    </tr>\n",
       "    <tr>\n",
       "      <th>2</th>\n",
       "      <td>1.0</td>\n",
       "      <td>-1.358354</td>\n",
       "      <td>-1.340163</td>\n",
       "      <td>1.773209</td>\n",
       "      <td>0.379780</td>\n",
       "      <td>-0.503198</td>\n",
       "      <td>1.800499</td>\n",
       "      <td>0.791461</td>\n",
       "      <td>0.247676</td>\n",
       "      <td>-1.514654</td>\n",
       "      <td>...</td>\n",
       "      <td>0.247998</td>\n",
       "      <td>0.771679</td>\n",
       "      <td>0.909412</td>\n",
       "      <td>-0.689281</td>\n",
       "      <td>-0.327642</td>\n",
       "      <td>-0.139097</td>\n",
       "      <td>-0.055353</td>\n",
       "      <td>-0.059752</td>\n",
       "      <td>378.66</td>\n",
       "      <td>0</td>\n",
       "    </tr>\n",
       "    <tr>\n",
       "      <th>3</th>\n",
       "      <td>1.0</td>\n",
       "      <td>-0.966272</td>\n",
       "      <td>-0.185226</td>\n",
       "      <td>1.792993</td>\n",
       "      <td>-0.863291</td>\n",
       "      <td>-0.010309</td>\n",
       "      <td>1.247203</td>\n",
       "      <td>0.237609</td>\n",
       "      <td>0.377436</td>\n",
       "      <td>-1.387024</td>\n",
       "      <td>...</td>\n",
       "      <td>-0.108300</td>\n",
       "      <td>0.005274</td>\n",
       "      <td>-0.190321</td>\n",
       "      <td>-1.175575</td>\n",
       "      <td>0.647376</td>\n",
       "      <td>-0.221929</td>\n",
       "      <td>0.062723</td>\n",
       "      <td>0.061458</td>\n",
       "      <td>123.50</td>\n",
       "      <td>0</td>\n",
       "    </tr>\n",
       "    <tr>\n",
       "      <th>4</th>\n",
       "      <td>2.0</td>\n",
       "      <td>-1.158233</td>\n",
       "      <td>0.877737</td>\n",
       "      <td>1.548718</td>\n",
       "      <td>0.403034</td>\n",
       "      <td>-0.407193</td>\n",
       "      <td>0.095921</td>\n",
       "      <td>0.592941</td>\n",
       "      <td>-0.270533</td>\n",
       "      <td>0.817739</td>\n",
       "      <td>...</td>\n",
       "      <td>-0.009431</td>\n",
       "      <td>0.798278</td>\n",
       "      <td>-0.137458</td>\n",
       "      <td>0.141267</td>\n",
       "      <td>-0.206010</td>\n",
       "      <td>0.502292</td>\n",
       "      <td>0.219422</td>\n",
       "      <td>0.215153</td>\n",
       "      <td>69.99</td>\n",
       "      <td>0</td>\n",
       "    </tr>\n",
       "  </tbody>\n",
       "</table>\n",
       "<p>5 rows × 31 columns</p>\n",
       "</div>"
      ],
      "text/plain": [
       "   Time        V1        V2        V3        V4        V5        V6        V7  \\\n",
       "0   0.0 -1.359807 -0.072781  2.536347  1.378155 -0.338321  0.462388  0.239599   \n",
       "1   0.0  1.191857  0.266151  0.166480  0.448154  0.060018 -0.082361 -0.078803   \n",
       "2   1.0 -1.358354 -1.340163  1.773209  0.379780 -0.503198  1.800499  0.791461   \n",
       "3   1.0 -0.966272 -0.185226  1.792993 -0.863291 -0.010309  1.247203  0.237609   \n",
       "4   2.0 -1.158233  0.877737  1.548718  0.403034 -0.407193  0.095921  0.592941   \n",
       "\n",
       "         V8        V9  ...       V21       V22       V23       V24       V25  \\\n",
       "0  0.098698  0.363787  ... -0.018307  0.277838 -0.110474  0.066928  0.128539   \n",
       "1  0.085102 -0.255425  ... -0.225775 -0.638672  0.101288 -0.339846  0.167170   \n",
       "2  0.247676 -1.514654  ...  0.247998  0.771679  0.909412 -0.689281 -0.327642   \n",
       "3  0.377436 -1.387024  ... -0.108300  0.005274 -0.190321 -1.175575  0.647376   \n",
       "4 -0.270533  0.817739  ... -0.009431  0.798278 -0.137458  0.141267 -0.206010   \n",
       "\n",
       "        V26       V27       V28  Amount  Class  \n",
       "0 -0.189115  0.133558 -0.021053  149.62      0  \n",
       "1  0.125895 -0.008983  0.014724    2.69      0  \n",
       "2 -0.139097 -0.055353 -0.059752  378.66      0  \n",
       "3 -0.221929  0.062723  0.061458  123.50      0  \n",
       "4  0.502292  0.219422  0.215153   69.99      0  \n",
       "\n",
       "[5 rows x 31 columns]"
      ]
     },
     "execution_count": 8,
     "metadata": {},
     "output_type": "execute_result"
    }
   ],
   "source": [
    "datasets.head()"
   ]
  },
  {
   "cell_type": "code",
   "execution_count": 9,
   "id": "certain-argument",
   "metadata": {},
   "outputs": [],
   "source": [
    "datasets['Amount'] = StandardScaler().fit_transform(datasets['Amount'].values.reshape(-1, 1))"
   ]
  },
  {
   "cell_type": "code",
   "execution_count": 10,
   "id": "noted-threshold",
   "metadata": {},
   "outputs": [],
   "source": [
    "datasets0 = datasets.query('Class == 0').sample(20000)\n",
    "datasets1 = datasets.query('Class == 1').sample(400)"
   ]
  },
  {
   "cell_type": "code",
   "execution_count": 11,
   "id": "small-color",
   "metadata": {},
   "outputs": [],
   "source": [
    "datasets = pd.concat([datasets0, datasets1])"
   ]
  },
  {
   "cell_type": "code",
   "execution_count": 12,
   "id": "average-quarterly",
   "metadata": {},
   "outputs": [],
   "source": [
    "#datasets = datasets.drop()"
   ]
  },
  {
   "cell_type": "code",
   "execution_count": 13,
   "id": "wicked-variance",
   "metadata": {},
   "outputs": [],
   "source": [
    "x_train, x_test, y_train, y_test = train_test_split(datasets.drop(labels = ['Time', 'Class'], axis = 1),\n",
    "                                                   datasets['Class'], test_size = 0.2, random_state = 42)"
   ]
  },
  {
   "cell_type": "code",
   "execution_count": 14,
   "id": "structured-limit",
   "metadata": {},
   "outputs": [
    {
     "name": "stdout",
     "output_type": "stream",
     "text": [
      "(16320, 29) Train samples\n",
      "(4080, 29) Test sample\n"
     ]
    }
   ],
   "source": [
    "print(x_train.shape, \"Train samples\")\n",
    "print(x_test.shape, \"Test sample\")"
   ]
  },
  {
   "cell_type": "markdown",
   "id": "stuck-gamma",
   "metadata": {},
   "source": [
    "#### Simple Auto - Endcoder"
   ]
  },
  {
   "cell_type": "code",
   "execution_count": 15,
   "id": "residential-iceland",
   "metadata": {},
   "outputs": [],
   "source": [
    "logfilenames = \"simpleautoencoder\""
   ]
  },
  {
   "cell_type": "code",
   "execution_count": 16,
   "id": "certain-leonard",
   "metadata": {},
   "outputs": [],
   "source": [
    "encoding_dim = 12\n",
    "input_dim = x_train.shape[1]"
   ]
  },
  {
   "cell_type": "code",
   "execution_count": 17,
   "id": "nervous-december",
   "metadata": {},
   "outputs": [],
   "source": [
    "inputArray = Input(shape = (input_dim,))\n",
    "encoded = Dense(encoding_dim, activation = 'relu')(inputArray)\n",
    "decoded = Dense(input_dim, activation = 'softmax')(encoded)"
   ]
  },
  {
   "cell_type": "code",
   "execution_count": 18,
   "id": "verbal-china",
   "metadata": {},
   "outputs": [
    {
     "name": "stdout",
     "output_type": "stream",
     "text": [
      "Model: \"model_1\"\n",
      "_________________________________________________________________\n",
      "Layer (type)                 Output Shape              Param #   \n",
      "=================================================================\n",
      "input_1 (InputLayer)         (None, 29)                0         \n",
      "_________________________________________________________________\n",
      "dense_1 (Dense)              (None, 12)                360       \n",
      "_________________________________________________________________\n",
      "dense_2 (Dense)              (None, 29)                377       \n",
      "=================================================================\n",
      "Total params: 737\n",
      "Trainable params: 737\n",
      "Non-trainable params: 0\n",
      "_________________________________________________________________\n"
     ]
    }
   ],
   "source": [
    "autoencoder = Model(inputArray, decoded)\n",
    "autoencoder.summary()"
   ]
  },
  {
   "cell_type": "markdown",
   "id": "conservative-reader",
   "metadata": {},
   "source": [
    "#### Sparce Auto - Encoder"
   ]
  },
  {
   "cell_type": "code",
   "execution_count": 19,
   "id": "julian-cameroon",
   "metadata": {},
   "outputs": [],
   "source": [
    "logfilenames = 'spareceautoencoder'\n",
    "encoding_dim = 12\n",
    "imput_dim = x_train.shape[1]\n",
    "inputArray = Input(shape = (input_dim,))"
   ]
  },
  {
   "cell_type": "code",
   "execution_count": 20,
   "id": "standing-anchor",
   "metadata": {},
   "outputs": [],
   "source": [
    "encoded = Dense(encoding_dim, activation = 'relu',\n",
    "               activity_regularizer = regularizers.l1(10e-5))(inputArray)\n",
    "decoded = Dense(input_dim, activation = 'softmax')(encoded)"
   ]
  },
  {
   "cell_type": "code",
   "execution_count": 21,
   "id": "olive-marathon",
   "metadata": {},
   "outputs": [
    {
     "name": "stdout",
     "output_type": "stream",
     "text": [
      "Model: \"model_2\"\n",
      "_________________________________________________________________\n",
      "Layer (type)                 Output Shape              Param #   \n",
      "=================================================================\n",
      "input_2 (InputLayer)         (None, 29)                0         \n",
      "_________________________________________________________________\n",
      "dense_3 (Dense)              (None, 12)                360       \n",
      "_________________________________________________________________\n",
      "dense_4 (Dense)              (None, 29)                377       \n",
      "=================================================================\n",
      "Total params: 737\n",
      "Trainable params: 737\n",
      "Non-trainable params: 0\n",
      "_________________________________________________________________\n"
     ]
    }
   ],
   "source": [
    "autoencoder = Model(inputArray, decoded)\n",
    "autoencoder.summary()"
   ]
  },
  {
   "cell_type": "markdown",
   "id": "freelance-piano",
   "metadata": {},
   "source": [
    "#### Deep Auto - Encoder"
   ]
  },
  {
   "cell_type": "code",
   "execution_count": 22,
   "id": "nuclear-ranch",
   "metadata": {},
   "outputs": [],
   "source": [
    "logfilenames = 'deepautoencoder'\n",
    "encoding_dim = 16\n",
    "input_dim = x_train.shape[1]\n",
    "inputArray = Input(shape = (input_dim,))"
   ]
  },
  {
   "cell_type": "code",
   "execution_count": 23,
   "id": "prompt-patio",
   "metadata": {},
   "outputs": [],
   "source": [
    "encoded = Dense(encoding_dim, activation = 'relu')(inputArray)\n",
    "encoded = Dense(8, activation = 'relu')(encoded)\n",
    "encoded = Dense(4, activation = 'relu')(encoded)\n",
    "\n",
    "decoded = Dense(8, activation = 'relu')(encoded)\n",
    "decoded = Dense(encoding_dim, activation = 'relu')(decoded)\n",
    "decoded = Dense(input_dim, activation = 'softmax')(decoded)"
   ]
  },
  {
   "cell_type": "code",
   "execution_count": 24,
   "id": "introductory-detector",
   "metadata": {},
   "outputs": [
    {
     "name": "stdout",
     "output_type": "stream",
     "text": [
      "Model: \"model_3\"\n",
      "_________________________________________________________________\n",
      "Layer (type)                 Output Shape              Param #   \n",
      "=================================================================\n",
      "input_3 (InputLayer)         (None, 29)                0         \n",
      "_________________________________________________________________\n",
      "dense_5 (Dense)              (None, 16)                480       \n",
      "_________________________________________________________________\n",
      "dense_6 (Dense)              (None, 8)                 136       \n",
      "_________________________________________________________________\n",
      "dense_7 (Dense)              (None, 4)                 36        \n",
      "_________________________________________________________________\n",
      "dense_8 (Dense)              (None, 8)                 40        \n",
      "_________________________________________________________________\n",
      "dense_9 (Dense)              (None, 16)                144       \n",
      "_________________________________________________________________\n",
      "dense_10 (Dense)             (None, 29)                493       \n",
      "=================================================================\n",
      "Total params: 1,329\n",
      "Trainable params: 1,329\n",
      "Non-trainable params: 0\n",
      "_________________________________________________________________\n"
     ]
    }
   ],
   "source": [
    "autoencoder = Model(inputArray, decoded)\n",
    "autoencoder.summary()"
   ]
  },
  {
   "cell_type": "markdown",
   "id": "excited-minister",
   "metadata": {},
   "source": [
    "#### Compile"
   ]
  },
  {
   "cell_type": "code",
   "execution_count": 25,
   "id": "piano-consideration",
   "metadata": {},
   "outputs": [],
   "source": [
    "autoencoder.compile(optimizer = RMSprop(), \n",
    "                   loss = 'mean_squared_error',\n",
    "                   metrics = ['mae', 'accuracy'])"
   ]
  },
  {
   "cell_type": "code",
   "execution_count": 26,
   "id": "recognized-preserve",
   "metadata": {},
   "outputs": [],
   "source": [
    "batch_size = 32\n",
    "epochs = 20"
   ]
  },
  {
   "cell_type": "code",
   "execution_count": 27,
   "id": "electric-oklahoma",
   "metadata": {},
   "outputs": [
    {
     "name": "stdout",
     "output_type": "stream",
     "text": [
      "Train on 16320 samples, validate on 4080 samples\n",
      "Epoch 1/20\n",
      "16320/16320 [==============================] - 2s 122us/step - loss: 1.4960 - mae: 0.6785 - accuracy: 0.1738 - val_loss: 1.6613 - val_mae: 0.6808 - val_accuracy: 0.3071\n",
      "Epoch 2/20\n",
      "16320/16320 [==============================] - 1s 71us/step - loss: 1.4551 - mae: 0.6609 - accuracy: 0.3914 - val_loss: 1.6363 - val_mae: 0.6711 - val_accuracy: 0.4363\n",
      "Epoch 3/20\n",
      "16320/16320 [==============================] - 1s 70us/step - loss: 1.4429 - mae: 0.6562 - accuracy: 0.4469 - val_loss: 1.6314 - val_mae: 0.6699 - val_accuracy: 0.4662\n",
      "Epoch 4/20\n",
      "16320/16320 [==============================] - 1s 70us/step - loss: 1.4383 - mae: 0.6551 - accuracy: 0.4694 - val_loss: 1.6263 - val_mae: 0.6686 - val_accuracy: 0.4868\n",
      "Epoch 5/20\n",
      "16320/16320 [==============================] - 1s 71us/step - loss: 1.4336 - mae: 0.6539 - accuracy: 0.4894 - val_loss: 1.6229 - val_mae: 0.6678 - val_accuracy: 0.4958\n",
      "Epoch 6/20\n",
      "16320/16320 [==============================] - 1s 74us/step - loss: 1.4314 - mae: 0.6534 - accuracy: 0.4971 - val_loss: 1.6195 - val_mae: 0.6673 - val_accuracy: 0.5044\n",
      "Epoch 7/20\n",
      "16320/16320 [==============================] - 1s 71us/step - loss: 1.4298 - mae: 0.6531 - accuracy: 0.5037 - val_loss: 1.6224 - val_mae: 0.6673 - val_accuracy: 0.5069\n",
      "Epoch 8/20\n",
      "16320/16320 [==============================] - 1s 71us/step - loss: 1.4287 - mae: 0.6528 - accuracy: 0.5126 - val_loss: 1.6203 - val_mae: 0.6670 - val_accuracy: 0.5154\n",
      "Epoch 9/20\n",
      "16320/16320 [==============================] - 1s 71us/step - loss: 1.4280 - mae: 0.6526 - accuracy: 0.5193 - val_loss: 1.6181 - val_mae: 0.6667 - val_accuracy: 0.5245\n",
      "Epoch 10/20\n",
      "16320/16320 [==============================] - 1s 70us/step - loss: 1.4279 - mae: 0.6525 - accuracy: 0.5239 - val_loss: 1.6178 - val_mae: 0.6667 - val_accuracy: 0.5289\n",
      "Epoch 11/20\n",
      "16320/16320 [==============================] - 1s 71us/step - loss: 1.4277 - mae: 0.6524 - accuracy: 0.5264 - val_loss: 1.6176 - val_mae: 0.6665 - val_accuracy: 0.5252\n",
      "Epoch 12/20\n",
      "16320/16320 [==============================] - 1s 71us/step - loss: 1.4276 - mae: 0.6524 - accuracy: 0.5275 - val_loss: 1.6175 - val_mae: 0.6665 - val_accuracy: 0.5319\n",
      "Epoch 13/20\n",
      "16320/16320 [==============================] - 1s 72us/step - loss: 1.4273 - mae: 0.6523 - accuracy: 0.5287 - val_loss: 1.6173 - val_mae: 0.6665 - val_accuracy: 0.5358\n",
      "Epoch 14/20\n",
      "16320/16320 [==============================] - 1s 72us/step - loss: 1.4273 - mae: 0.6523 - accuracy: 0.5297 - val_loss: 1.6189 - val_mae: 0.6666 - val_accuracy: 0.5243\n",
      "Epoch 15/20\n",
      "16320/16320 [==============================] - 1s 71us/step - loss: 1.4271 - mae: 0.6522 - accuracy: 0.5282 - val_loss: 1.6173 - val_mae: 0.6664 - val_accuracy: 0.5292\n",
      "Epoch 16/20\n",
      "16320/16320 [==============================] - 1s 72us/step - loss: 1.4270 - mae: 0.6522 - accuracy: 0.5279 - val_loss: 1.6171 - val_mae: 0.6664 - val_accuracy: 0.5306\n",
      "Epoch 17/20\n",
      "16320/16320 [==============================] - 1s 71us/step - loss: 1.4268 - mae: 0.6522 - accuracy: 0.5288 - val_loss: 1.6170 - val_mae: 0.6664 - val_accuracy: 0.5324\n",
      "Epoch 18/20\n",
      "16320/16320 [==============================] - 1s 71us/step - loss: 1.4266 - mae: 0.6521 - accuracy: 0.5307 - val_loss: 1.6168 - val_mae: 0.6663 - val_accuracy: 0.5358\n",
      "Epoch 19/20\n",
      "16320/16320 [==============================] - 1s 72us/step - loss: 1.4265 - mae: 0.6521 - accuracy: 0.5314 - val_loss: 1.6169 - val_mae: 0.6663 - val_accuracy: 0.5201\n",
      "Epoch 20/20\n",
      "16320/16320 [==============================] - 1s 71us/step - loss: 1.4264 - mae: 0.6521 - accuracy: 0.5312 - val_loss: 1.6166 - val_mae: 0.6663 - val_accuracy: 0.5404\n"
     ]
    }
   ],
   "source": [
    "history = autoencoder.fit(x_train, x_train, batch_size = batch_size,\n",
    "                         epochs = epochs,\n",
    "                         verbose = 1,\n",
    "                         shuffle = True,\n",
    "                         validation_data = [x_test, x_test],\n",
    "                         callbacks = [TensorBoard(log_dir = '/Users/mejbahahammad/Documents/MachineLearningPractics/logs/{0}'.format(logfilenames))])"
   ]
  },
  {
   "cell_type": "code",
   "execution_count": 28,
   "id": "brave-liechtenstein",
   "metadata": {},
   "outputs": [
    {
     "name": "stdout",
     "output_type": "stream",
     "text": [
      "4080/4080 [==============================] - 0s 31us/step\n"
     ]
    }
   ],
   "source": [
    "scores = autoencoder.evaluate(x_test, x_test, verbose = 1)"
   ]
  },
  {
   "cell_type": "code",
   "execution_count": 29,
   "id": "adult-junior",
   "metadata": {},
   "outputs": [
    {
     "name": "stdout",
     "output_type": "stream",
     "text": [
      "Test Scores : 1.6165864715389178\n",
      "Test Accuracy: 0.6663103699684143\n"
     ]
    }
   ],
   "source": [
    "print(\"Test Scores : {}\".format(scores[0]))\n",
    "print(\"Test Accuracy: {}\".format(scores[1]))"
   ]
  },
  {
   "cell_type": "code",
   "execution_count": 30,
   "id": "funny-valley",
   "metadata": {},
   "outputs": [],
   "source": [
    "threshold = 15.00\n",
    "y_pred = autoencoder.predict(x_test)\n",
    "y_dist = np.linalg.norm(x_test - y_pred, axis = -1)\n",
    "z = zip(y_dist >= threshold, y_dist)"
   ]
  },
  {
   "cell_type": "code",
   "execution_count": 31,
   "id": "japanese-trainer",
   "metadata": {},
   "outputs": [],
   "source": [
    "y_label = []\n",
    "error = []\n",
    "\n",
    "for idx, (is_anomaly, y_dist) in enumerate(z):\n",
    "    if is_anomaly:\n",
    "        y_label.append(1)\n",
    "    else:\n",
    "        y_label.append(0)\n",
    "    error.append(y_dist)"
   ]
  },
  {
   "cell_type": "code",
   "execution_count": 32,
   "id": "medium-technology",
   "metadata": {},
   "outputs": [
    {
     "name": "stdout",
     "output_type": "stream",
     "text": [
      "              precision    recall  f1-score   support\n",
      "\n",
      "           0       0.99      0.99      0.99      3987\n",
      "           1       0.57      0.63      0.60        93\n",
      "\n",
      "    accuracy                           0.98      4080\n",
      "   macro avg       0.78      0.81      0.80      4080\n",
      "weighted avg       0.98      0.98      0.98      4080\n",
      "\n"
     ]
    }
   ],
   "source": [
    "print(classification_report(y_test, y_label))"
   ]
  },
  {
   "cell_type": "code",
   "execution_count": 33,
   "id": "vital-planet",
   "metadata": {},
   "outputs": [
    {
     "name": "stdout",
     "output_type": "stream",
     "text": [
      "Roc acuracy Score: 0.8116863677920985\n"
     ]
    }
   ],
   "source": [
    "print(\"Roc acuracy Score: {}\".format(roc_auc_score(y_test, y_label)))"
   ]
  },
  {
   "cell_type": "code",
   "execution_count": 34,
   "id": "animal-daughter",
   "metadata": {},
   "outputs": [
    {
     "data": {
      "image/png": "[encoded data removed]",
      "text/plain": [
       "<Figure size 720x576 with 2 Axes>"
      ]
     },
     "metadata": {
      "needs_background": "light"
     },
     "output_type": "display_data"
    }
   ],
   "source": [
    "viz = Visulaization()\n",
    "viz.draw_confusion_matrix(y_test, y_label)"
   ]
  },
  {
   "cell_type": "code",
   "execution_count": 35,
   "id": "written-journalist",
   "metadata": {},
   "outputs": [
    {
     "data": {
      "image/png": "[encoded data removed]",
      "text/plain": [
       "<Figure size 432x288 with 1 Axes>"
      ]
     },
     "metadata": {
      "needs_background": "light"
     },
     "output_type": "display_data"
    }
   ],
   "source": [
    "viz.draw_error(y_test, y_label)"
   ]
  },
  {
   "cell_type": "code",
   "execution_count": 36,
   "id": "lightweight-egyptian",
   "metadata": {},
   "outputs": [
    {
     "data": {
      "image/png": "[encoded data removed]",
      "text/plain": [
       "<Figure size 720x576 with 1 Axes>"
      ]
     },
     "metadata": {
      "needs_background": "light"
     },
     "output_type": "display_data"
    }
   ],
   "source": [
    "viz.draw_anomaly(y_test, y_label, threshold)"
   ]
  },
  {
   "cell_type": "code",
   "execution_count": null,
   "id": "rising-firmware",
   "metadata": {},
   "outputs": [],
   "source": []
  }
 ],
 "metadata": {
  "kernelspec": {
   "display_name": "Python 3",
   "language": "python",
   "name": "python3"
  },
  "language_info": {
   "codemirror_mode": {
    "name": "ipython",
    "version": 3
   },
   "file_extension": ".py",
   "mimetype": "text/x-python",
   "name": "python",
   "nbconvert_exporter": "python",
   "pygments_lexer": "ipython3",
   "version": "3.7.9"
  }
 },
 "nbformat": 4,
 "nbformat_minor": 5
}
